{
  "nbformat": 4,
  "nbformat_minor": 0,
  "metadata": {
    "colab": {
      "name": "Netflix prize.ipynb",
      "provenance": []
    },
    "kernelspec": {
      "name": "python3",
      "display_name": "Python 3"
    },
    "language_info": {
      "name": "python"
    }
  },
  "cells": [
    {
      "cell_type": "markdown",
      "metadata": {
        "id": "YeM0ZBWUVtXR"
      },
      "source": [
        "# SGD Algorithm to predict movie ratings</font>"
      ]
    },
    {
      "cell_type": "markdown",
      "metadata": {
        "id": "HY0frS6EWaEV"
      },
      "source": [
        "<b>Predict the rating for a given (user_id, movie_id) pair </b> </font>\n"
      ]
    },
    {
      "cell_type": "markdown",
      "metadata": {
        "id": "iVJo-3njBQLf"
      },
      "source": [
        "<font color='white'> Reading the csv file </font>"
      ]
    },
    {
      "cell_type": "code",
      "execution_count": null,
      "metadata": {
        "colab": {
          "base_uri": "https://localhost:8080/",
          "height": 34
        },
        "id": "J0VQF0vtu6Dm",
        "outputId": "07ad09d0-1278-4c5a-f79c-abc629205ce2"
      },
      "outputs": [
        {
          "name": "stdout",
          "output_type": "stream",
          "text": [
            "Drive already mounted at /content/drive; to attempt to forcibly remount, call drive.mount(\"/content/drive\", force_remount=True).\n"
          ]
        }
      ],
      "source": [
        "from google.colab import drive\n",
        "drive.mount('/content/drive')\n"
      ]
    },
    {
      "cell_type": "code",
      "execution_count": null,
      "metadata": {
        "id": "ZO0S4sIJ26e4"
      },
      "outputs": [],
      "source": [
        "import numpy as np\n",
        "import pandas as pd"
      ]
    },
    {
      "cell_type": "code",
      "execution_count": null,
      "metadata": {
        "colab": {
          "base_uri": "https://localhost:8080/",
          "height": 195
        },
        "id": "hEhmfRD637EW",
        "outputId": "4dcf3e1e-3779-4be4-a5a4-428d73e4cc28"
      },
      "outputs": [
        {
          "data": {
            "text/html": [
              "<div>\n",
              "<style scoped>\n",
              "    .dataframe tbody tr th:only-of-type {\n",
              "        vertical-align: middle;\n",
              "    }\n",
              "\n",
              "    .dataframe tbody tr th {\n",
              "        vertical-align: top;\n",
              "    }\n",
              "\n",
              "    .dataframe thead th {\n",
              "        text-align: right;\n",
              "    }\n",
              "</style>\n",
              "<table border=\"1\" class=\"dataframe\">\n",
              "  <thead>\n",
              "    <tr style=\"text-align: right;\">\n",
              "      <th></th>\n",
              "      <th>user_id</th>\n",
              "      <th>item_id</th>\n",
              "      <th>rating</th>\n",
              "    </tr>\n",
              "  </thead>\n",
              "  <tbody>\n",
              "    <tr>\n",
              "      <th>0</th>\n",
              "      <td>772</td>\n",
              "      <td>36</td>\n",
              "      <td>3</td>\n",
              "    </tr>\n",
              "    <tr>\n",
              "      <th>1</th>\n",
              "      <td>471</td>\n",
              "      <td>228</td>\n",
              "      <td>5</td>\n",
              "    </tr>\n",
              "    <tr>\n",
              "      <th>2</th>\n",
              "      <td>641</td>\n",
              "      <td>401</td>\n",
              "      <td>4</td>\n",
              "    </tr>\n",
              "    <tr>\n",
              "      <th>3</th>\n",
              "      <td>312</td>\n",
              "      <td>98</td>\n",
              "      <td>4</td>\n",
              "    </tr>\n",
              "    <tr>\n",
              "      <th>4</th>\n",
              "      <td>58</td>\n",
              "      <td>504</td>\n",
              "      <td>5</td>\n",
              "    </tr>\n",
              "  </tbody>\n",
              "</table>\n",
              "</div>"
            ],
            "text/plain": [
              "   user_id  item_id  rating\n",
              "0      772       36       3\n",
              "1      471      228       5\n",
              "2      641      401       4\n",
              "3      312       98       4\n",
              "4       58      504       5"
            ]
          },
          "execution_count": 3,
          "metadata": {
            "tags": []
          },
          "output_type": "execute_result"
        }
      ],
      "source": [
        "\n",
        "data=pd.read_csv('/content/drive/My Drive/Colab Notebooks/RecommendationSystem_TruncatedSVD/ratings_train.csv')\n",
        "data.head()"
      ]
    },
    {
      "cell_type": "code",
      "execution_count": null,
      "metadata": {
        "colab": {
          "base_uri": "https://localhost:8080/",
          "height": 34
        },
        "id": "66ibGJ74hCde",
        "outputId": "8253a010-812a-42a5-f616-e16e8d637c36"
      },
      "outputs": [
        {
          "data": {
            "text/plain": [
              "(89992, 3)"
            ]
          },
          "execution_count": 4,
          "metadata": {
            "tags": []
          },
          "output_type": "execute_result"
        }
      ],
      "source": [
        "data.shape"
      ]
    },
    {
      "cell_type": "markdown",
      "metadata": {
        "id": "mvB8SDS_hW03"
      },
      "source": [
        "<font color='white'>Creating adjacency matrix </font>"
      ]
    },
    {
      "cell_type": "code",
      "execution_count": null,
      "metadata": {
        "id": "t44MNT40hZQW"
      },
      "outputs": [],
      "source": [
        "from scipy.sparse import csr_matrix\n",
        "adjacency_matrix = csr_matrix((data['rating'].values,(data['user_id'].values,data['item_id'].values)), shape=(943,1681))"
      ]
    },
    {
      "cell_type": "code",
      "execution_count": null,
      "metadata": {
        "colab": {
          "base_uri": "https://localhost:8080/",
          "height": 34
        },
        "id": "-mCgC0WbhZTO",
        "outputId": "fcd686da-261b-4efc-a4e6-b492dafa3d0a"
      },
      "outputs": [
        {
          "data": {
            "text/plain": [
              "(943, 1681)"
            ]
          },
          "execution_count": 6,
          "metadata": {
            "tags": []
          },
          "output_type": "execute_result"
        }
      ],
      "source": [
        "adjacency_matrix.shape"
      ]
    },
    {
      "cell_type": "markdown",
      "metadata": {
        "id": "gXDf1RCUBsYN"
      },
      "source": [
        "<font color='white'> SVD decompostion</font>"
      ]
    },
    {
      "cell_type": "code",
      "execution_count": null,
      "metadata": {
        "colab": {
          "base_uri": "https://localhost:8080/",
          "height": 67
        },
        "id": "ZYnsKBmFEIg3",
        "outputId": "419b67eb-4613-4309-ad68-59dbcb7548aa"
      },
      "outputs": [
        {
          "name": "stdout",
          "output_type": "stream",
          "text": [
            "(943, 5)\n",
            "(5,)\n",
            "(1681, 5)\n"
          ]
        }
      ],
      "source": [
        "# adjacency_matrix as matrix for SVD decompostion\n",
        "from sklearn.utils.extmath import randomized_svd\n",
        "import numpy as np \n",
        "U, Sigma, VT = randomized_svd(adjacency_matrix, n_components=5,n_iter=5, random_state=None)\n",
        "print(U.shape)\n",
        "print(Sigma.shape)\n",
        "print(VT.T.shape)"
      ]
    },
    {
      "cell_type": "markdown",
      "metadata": {
        "id": "83Vh4NoO_JyU"
      },
      "source": [
        "<font color='white'> Mean of ratings</font>"
      ]
    },
    {
      "cell_type": "code",
      "execution_count": null,
      "metadata": {
        "id": "cBHuCn2QSEnl"
      },
      "outputs": [],
      "source": [
        "def m_u(ratings):\n",
        "    '''In this function, we will compute mean for all the ratings'''\n",
        "    m= data['rating'].mean()\n",
        "    # you can use mean() function to do this\n",
        "    # check this (https://pandas.pydata.org/pandas-docs/stable/reference/api/pandas.DataFrame.mean.html) link for more details.\n",
        "    \n",
        "\n",
        "    return m"
      ]
    },
    {
      "cell_type": "code",
      "execution_count": null,
      "metadata": {
        "colab": {
          "base_uri": "https://localhost:8080/",
          "height": 34
        },
        "id": "iu1nn-1x3ebp",
        "outputId": "8c83d09f-58ab-4442-9dac-8a5008b261cb"
      },
      "outputs": [
        {
          "name": "stdout",
          "output_type": "stream",
          "text": [
            "3.529480398257623\n"
          ]
        }
      ],
      "source": [
        "mu=m_u(data['rating'])\n",
        "print(mu)"
      ]
    },
    {
      "cell_type": "markdown",
      "metadata": {
        "id": "qSvAW1X94g3G"
      },
      "source": [
        "<font color='white'>Initialize $B_{i}$ and $C_{j}$  \n",
        "Number of rows of adjacent matrix corresponds to user dimensions($B_{i}$), number of columns of adjacent matrix corresponds to movie dimensions ($C_{j}$)"
      ]
    },
    {
      "cell_type": "code",
      "execution_count": null,
      "metadata": {
        "id": "AyEJqPka4lBW"
      },
      "outputs": [],
      "source": [
        "def initialize(dim):\n",
        "    '''In this function, we will initialize bias value 'B' and 'C'.'''\n",
        "    # initalize the value to zeros \n",
        "    # return output as a list of zeros\n",
        "    init= np.zeros(dim)\n",
        "\n",
        "\n",
        "    \n",
        "\n",
        "    return init"
      ]
    },
    {
      "cell_type": "code",
      "execution_count": null,
      "metadata": {
        "id": "Nlae9QAQ43Xz"
      },
      "outputs": [],
      "source": [
        "dim= 943 # give the number of dimensions for b_i (Here b_i corresponds to users)\n",
        "b_i=initialize(dim)"
      ]
    },
    {
      "cell_type": "code",
      "execution_count": null,
      "metadata": {
        "id": "rwuopn4HoEbP"
      },
      "outputs": [],
      "source": [
        "dim= 1681# give the number of dimensions for c_j (Here c_j corresponds to movies)\n",
        "c_j=initialize(dim)"
      ]
    },
    {
      "cell_type": "code",
      "execution_count": null,
      "metadata": {
        "colab": {
          "base_uri": "https://localhost:8080/",
          "height": 34
        },
        "id": "vsFJnVj9FhiI",
        "outputId": "1efba365-a846-4d2d-e9d0-8191bb4d008e"
      },
      "outputs": [
        {
          "name": "stdout",
          "output_type": "stream",
          "text": [
            "-0.9229453479130284\n"
          ]
        }
      ],
      "source": [
        "U1, Sigma, V1 = randomized_svd(adjacency_matrix, n_components=2,n_iter=5, random_state=24)\n",
        "# Please don't change random state\n",
        "# Here we are considering n_componets = 2 for our convinence\n",
        "alpha=0.01 \n",
        "#value=derivative_db(312,98,4,U1,V1,mu,alpha)\n",
        "diff_b=(2*alpha*b_i[312])-(2*(4-mu-b_i[312]-c_j[98]-np.dot(U[312],VT.T[98])))\n",
        "print(diff_b)"
      ]
    },
    {
      "cell_type": "markdown",
      "metadata": {
        "id": "DTDK4ZR18MrZ"
      },
      "source": [
        "<font color='white'> dL/db_i</font>"
      ]
    },
    {
      "cell_type": "code",
      "execution_count": null,
      "metadata": {
        "id": "3NFzVC1N8S4L"
      },
      "outputs": [],
      "source": [
        "def derivative_db(user_id,item_id,rating,U,V,mu,alpha,b_i,c_j):\n",
        "    '''In this function, we will compute dL/db_i'''\n",
        "\n",
        "    db=(2*alpha*b_i[user_id])-(2*(rating-mu-b_i[user_id]-c_j[item_id]-np.dot(U[user_id],V.T[item_id])))\n",
        "    #print(db)\n",
        "    \n",
        "    return db\n"
      ]
    },
    {
      "cell_type": "markdown",
      "metadata": {
        "id": "1Kp0hC_b9v60"
      },
      "source": [
        "<font color='white'> dL/dc_j</font>"
      ]
    },
    {
      "cell_type": "code",
      "execution_count": null,
      "metadata": {
        "id": "FAtSYMrc9UqJ"
      },
      "outputs": [],
      "source": [
        "def derivative_dc(user_id,item_id,rating,U,V,mu,b_i,c_j):\n",
        "    '''In this function, we will compute dL/dc_j'''\n",
        "    dc= (2*alpha*c_j[item_id])-(2*(rating-mu-b_i[user_id]-c_j[item_id]-np.dot(U[user_id],V.T[item_id])))\n",
        "    return dc\n"
      ]
    },
    {
      "cell_type": "code",
      "execution_count": null,
      "metadata": {
        "id": "RSUrrLvqSCUb"
      },
      "outputs": [],
      "source": [
        "adjacency_matrix=adjacency_matrix.todense()\n",
        "adjacency_matrix=np.array(adjacency_matrix)"
      ]
    },
    {
      "cell_type": "code",
      "execution_count": null,
      "metadata": {
        "colab": {
          "base_uri": "https://localhost:8080/",
          "height": 34
        },
        "id": "Q76k81HyrwLZ",
        "outputId": "9c213195-a04a-48a9-c3d8-0342d1080a7b"
      },
      "outputs": [
        {
          "data": {
            "text/plain": [
              "array([5, 0, 4, ..., 0, 0, 0], dtype=int64)"
            ]
          },
          "execution_count": 17,
          "metadata": {
            "tags": []
          },
          "output_type": "execute_result"
        }
      ],
      "source": [
        "adjacency_matrix[0]"
      ]
    },
    {
      "cell_type": "code",
      "execution_count": null,
      "metadata": {
        "id": "0l38BhHccleM"
      },
      "outputs": [],
      "source": [
        "def pred(mu,b,c,U,V,adjacency_matrix): #predicting Rating\n",
        "  p=np.empty((len(b),len(c)))\n",
        "  for i in range(len(b)):\n",
        "    for j in range(len(c)):\n",
        "      if adjacency_matrix[i][j]>0:\n",
        "        p[i][j]=(mu+b[i]+c[j]+np.dot(U[i],V.T[j]))\n",
        "        #print(np.dot(U[i],V.T[j]))\n",
        "  return p"
      ]
    },
    {
      "cell_type": "markdown",
      "metadata": {
        "id": "lg5XNbDWCIKI"
      },
      "source": [
        "<font color='white'>Compute MSE (mean squared error) for predicted ratings</font>\n"
      ]
    },
    {
      "cell_type": "code",
      "execution_count": null,
      "metadata": {
        "id": "Og52n3jPQlt4"
      },
      "outputs": [],
      "source": [
        "def MSE(adjacency_matrix,y_pred):#calculating MSE for only Non Zero Values\n",
        "  score=[]\n",
        "  for i in range(adjacency_matrix.shape[0]):\n",
        "    for j in range(adjacency_matrix.shape[1]):\n",
        "      if adjacency_matrix[i][j]>0:\n",
        "        #print('act: ',y[i][j],' pred: ',y_pred[i][j])\n",
        "        score.append((adjacency_matrix[i][j]-y_pred[i][j])**2)\n",
        "  return (sum(score)/len(score))"
      ]
    },
    {
      "cell_type": "code",
      "execution_count": null,
      "metadata": {
        "id": "kiKj-M6d2a-Y"
      },
      "outputs": [],
      "source": [
        "def train(mu,adjacency_matrix,U,V,epochs,alpha,eta0):\n",
        "    \n",
        "    db=initialize(U.shape[0])\n",
        "    dc=initialize(V.shape[1])\n",
        "    train_loss=[]\n",
        "    train_pred=pred(mu,db,dc,U,V,adjacency_matrix)\n",
        "    non_zero=[]\n",
        "\n",
        "    #print(train_pred[10][458],train_pred[10][458])\n",
        "    train_loss.append(MSE(adjacency_matrix,train_pred))\n",
        "\n",
        "    print('Epoch no : 0', ' Train MSE :',train_loss[0])\n",
        "    \n",
        "    for i in range(1,epochs):\n",
        "        \n",
        "        for j in range(adjacency_matrix.shape[0]): #For all the rating db is updated\n",
        "          for k in range(adjacency_matrix.shape[1]):\n",
        "            if adjacency_matrix[j][k]>0 :\n",
        "              db[j]-=(eta0*(derivative_db(j,k,adjacency_matrix[j][k],U,V,mu,alpha,db,dc)))\n",
        "              dc[k]-=(eta0*(derivative_dc(j,k,adjacency_matrix[j][k],U,V,mu,db,dc)))\n",
        "            \n",
        "        #for l in range(adjacency_matrix.shape[1]): #For all the rating dc is updated\n",
        "          #for m in range(adjacency_matrix.shape[0]):\n",
        "            #if adjacency_matrix[m][l]>0:\n",
        "              #dc[m]=dc[m]-(eta0*(derivative_dc(l,m,adjacency_matrix[l][m],U,V,mu)))\n",
        "        #print('db :',db,'dc :',dc)\n",
        "        train_pred=pred(mu,db,dc,U,V,adjacency_matrix)\n",
        "        train_loss.append(MSE(adjacency_matrix,train_pred))\n",
        "        #print(b) \n",
        "        print('Epoch no : ',i, ' Train MSE :',train_loss[i])   \n",
        "        if  abs(train_loss[i-1]-train_loss[i])<(0.0001) :\n",
        "          break\n",
        "        \n",
        "\n",
        "        \n",
        "                \n",
        "\n",
        "    return train_loss"
      ]
    },
    {
      "cell_type": "code",
      "execution_count": null,
      "metadata": {
        "colab": {
          "base_uri": "https://localhost:8080/",
          "height": 504
        },
        "id": "1xR_XfZgfMSC",
        "outputId": "c4ddb091-885b-4b59-c397-05879a985aec"
      },
      "outputs": [
        {
          "name": "stdout",
          "output_type": "stream",
          "text": [
            "Epoch no : 0  Train MSE : 1.264990150913306\n",
            "Epoch no :  1  Train MSE : 0.9302444154277995\n",
            "Epoch no :  2  Train MSE : 0.8867618040815735\n",
            "Epoch no :  3  Train MSE : 0.8724216757435964\n",
            "Epoch no :  4  Train MSE : 0.8655365362752664\n",
            "Epoch no :  5  Train MSE : 0.8616403862369124\n",
            "Epoch no :  6  Train MSE : 0.8591804178390999\n",
            "Epoch no :  7  Train MSE : 0.8574988963585107\n",
            "Epoch no :  8  Train MSE : 0.8562788003916725\n",
            "Epoch no :  9  Train MSE : 0.855352017439205\n",
            "Epoch no :  10  Train MSE : 0.8546224401415159\n",
            "Epoch no :  11  Train MSE : 0.8540316415398559\n",
            "Epoch no :  12  Train MSE : 0.8535422290354416\n",
            "Epoch no :  13  Train MSE : 0.8531292099080576\n",
            "Epoch no :  14  Train MSE : 0.852775251801378\n",
            "Epoch no :  15  Train MSE : 0.8524679510253329\n",
            "Epoch no :  16  Train MSE : 0.8521981892638477\n",
            "Epoch no :  17  Train MSE : 0.8519591069235305\n",
            "Epoch no :  18  Train MSE : 0.8517454398397674\n",
            "Epoch no :  19  Train MSE : 0.8515530777640243\n",
            "Epoch no :  20  Train MSE : 0.8513787625755498\n",
            "Epoch no :  21  Train MSE : 0.8512198770668796\n",
            "Epoch no :  22  Train MSE : 0.8510742939722072\n",
            "Epoch no :  23  Train MSE : 0.8509402660036972\n",
            "Epoch no :  24  Train MSE : 0.8508163443928543\n",
            "Epoch no :  25  Train MSE : 0.8507013176244806\n",
            "Epoch no :  26  Train MSE : 0.8505941647214978\n",
            "Epoch no :  27  Train MSE : 0.8504940191803863\n",
            "Epoch no :  28  Train MSE : 0.8504001408130201\n"
          ]
        }
      ],
      "source": [
        "loss=train(mu,adjacency_matrix,U,VT,30,0.01,0.01)"
      ]
    },
    {
      "cell_type": "markdown",
      "metadata": {
        "id": "hTXYZFFUVSg5"
      },
      "source": [
        "<font color='white'>epoch number vs MSE </font>"
      ]
    },
    {
      "cell_type": "code",
      "execution_count": null,
      "metadata": {
        "id": "5npl6qpSqcuo"
      },
      "outputs": [],
      "source": [
        "epoch=[]\n",
        "for i in range(29):\n",
        "  epoch.append(i)"
      ]
    },
    {
      "cell_type": "code",
      "execution_count": null,
      "metadata": {
        "id": "pqoYIKAe7a1d"
      },
      "outputs": [],
      "source": [
        "import matplotlib.pyplot as plt\n"
      ]
    },
    {
      "cell_type": "code",
      "execution_count": null,
      "metadata": {
        "colab": {
          "base_uri": "https://localhost:8080/",
          "height": 312
        },
        "id": "JtzqggNG7ThJ",
        "outputId": "c8c7e0dc-681c-4509-f64a-f8cf404a8799"
      },
      "outputs": [
        {
          "data": {
            "text/plain": [
              "Text(0, 0.5, 'loss')"
            ]
          },
          "execution_count": 48,
          "metadata": {
            "tags": []
          },
          "output_type": "execute_result"
        },
        {
          "data": {
            "image/png": "[encoded data removed]",
            "text/plain": [
              "<Figure size 432x288 with 1 Axes>"
            ]
          },
          "metadata": {
            "needs_background": "light",
            "tags": []
          },
          "output_type": "display_data"
        }
      ],
      "source": [
        "plt.plot(epoch,loss)\n",
        "plt.title('Loss VS Number of iterations')\n",
        "plt.xlabel('epoch')\n",
        "plt.ylabel('loss')"
      ]
    },
    {
      "cell_type": "markdown",
      "metadata": {
        "id": "NeWAGkT6C9kq"
      },
      "source": [
        "<br>"
      ]
    }
  ]
}